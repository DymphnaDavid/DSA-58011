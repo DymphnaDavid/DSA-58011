{
  "nbformat": 4,
  "nbformat_minor": 0,
  "metadata": {
    "colab": {
      "provenance": [],
      "authorship_tag": "ABX9TyMP/jKokI6FoNJCpZdvkRbk",
      "include_colab_link": true
    },
    "kernelspec": {
      "name": "python3",
      "display_name": "Python 3"
    },
    "language_info": {
      "name": "python"
    }
  },
  "cells": [
    {
      "cell_type": "markdown",
      "metadata": {
        "id": "view-in-github",
        "colab_type": "text"
      },
      "source": [
        "<a href=\"https://colab.research.google.com/github/DymphnaDavid/DSA-58011/blob/main/Graphs.ipynb\" target=\"_parent\"><img src=\"https://colab.research.google.com/assets/colab-badge.svg\" alt=\"Open In Colab\"/></a>"
      ]
    },
    {
      "cell_type": "code",
      "execution_count": 1,
      "metadata": {
        "colab": {
          "base_uri": "https://localhost:8080/"
        },
        "id": "obHI2p9rcTsh",
        "outputId": "fbdaeab2-a912-4150-b575-ff2c24f33dc0"
      },
      "outputs": [
        {
          "output_type": "stream",
          "name": "stdout",
          "text": [
            "{'a': ['b', 'c'], 'b': ['a', 'd'], 'c': ['a', 'd'], 'd': ['b', 'c', 'e'], 'e': ['e']}\n"
          ]
        }
      ],
      "source": [
        "graph = {\n",
        "    'a' : [ 'b', 'c'],\n",
        "    'b' : [ 'a', 'd'],\n",
        "    'c' : [ 'a', 'd'],\n",
        "    'd' : [ 'b', 'c', 'e'],\n",
        "    'e' : [ 'e']\n",
        "\n",
        "}\n",
        "print(graph)"
      ]
    },
    {
      "cell_type": "code",
      "source": [
        "graph = {\n",
        "    'a' : [ 'c', 'd', 'e' ],\n",
        "    'b' : [ 'd', 'e' ],\n",
        "    'c' : [ 'c' ],\n",
        "    'd' : [ 'b' ],\n",
        "    'e' : [ 'b' ]\n",
        "}\n",
        "print(graph)"
      ],
      "metadata": {
        "colab": {
          "base_uri": "https://localhost:8080/"
        },
        "id": "WPMY-p4ygz8j",
        "outputId": "ebc3a5e5-f1f9-499d-b0d8-d41bf95321c1"
      },
      "execution_count": 3,
      "outputs": [
        {
          "output_type": "stream",
          "name": "stdout",
          "text": [
            "{'a': ['c', 'd', 'e'], 'b': ['d', 'e'], 'c': ['c'], 'd': ['b'], 'e': ['b']}\n"
          ]
        }
      ]
    }
  ]
}