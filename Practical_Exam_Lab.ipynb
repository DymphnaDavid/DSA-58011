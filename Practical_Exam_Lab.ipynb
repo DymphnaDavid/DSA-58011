{
  "nbformat": 4,
  "nbformat_minor": 0,
  "metadata": {
    "colab": {
      "name": "Practical_Exam_Lab.ipynb",
      "provenance": [],
      "authorship_tag": "ABX9TyNWoqA7HzwTERC2iF5qYhGa",
      "include_colab_link": true
    },
    "kernelspec": {
      "name": "python3",
      "display_name": "Python 3"
    },
    "language_info": {
      "name": "python"
    }
  },
  "cells": [
    {
      "cell_type": "markdown",
      "metadata": {
        "id": "view-in-github",
        "colab_type": "text"
      },
      "source": [
        "<a href=\"https://colab.research.google.com/github/DymphnaDavid/DSA-58011/blob/main/Practical_Exam_Lab.ipynb\" target=\"_parent\"><img src=\"https://colab.research.google.com/assets/colab-badge.svg\" alt=\"Open In Colab\"/></a>"
      ]
    },
    {
      "cell_type": "code",
      "execution_count": 16,
      "metadata": {
        "colab": {
          "base_uri": "https://localhost:8080/"
        },
        "id": "FbKNqXypXior",
        "outputId": "051645e2-73c1-45ee-af5f-174f760fae8d"
      },
      "outputs": [
        {
          "output_type": "stream",
          "name": "stdout",
          "text": [
            "Sum: 147\n",
            "Sum: 261\n",
            "Sum: 225\n"
          ]
        }
      ],
      "source": [
        "numbers = [26,49,98,87,62,75]\n",
        "for number in numbers:\n",
        "  if number % 2:\n",
        "    sum = number + number + number \n",
        "    print(f\"Sum: {sum}\")"
      ]
    }
  ]
}