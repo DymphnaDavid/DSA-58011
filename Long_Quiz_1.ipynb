{
  "nbformat": 4,
  "nbformat_minor": 0,
  "metadata": {
    "colab": {
      "provenance": [],
      "authorship_tag": "ABX9TyPlNGdjC/WIyQyHNzuCydVd",
      "include_colab_link": true
    },
    "kernelspec": {
      "name": "python3",
      "display_name": "Python 3"
    },
    "language_info": {
      "name": "python"
    }
  },
  "cells": [
    {
      "cell_type": "markdown",
      "metadata": {
        "id": "view-in-github",
        "colab_type": "text"
      },
      "source": [
        "<a href=\"https://colab.research.google.com/github/DymphnaDavid/DSA-58011/blob/main/Long_Quiz_1.ipynb\" target=\"_parent\"><img src=\"https://colab.research.google.com/assets/colab-badge.svg\" alt=\"Open In Colab\"/></a>"
      ]
    },
    {
      "cell_type": "markdown",
      "source": [
        "Python program that inserts each letter of your name and displays it in reverse."
      ],
      "metadata": {
        "id": "SUe7UCv5XU0T"
      }
    },
    {
      "cell_type": "code",
      "source": [
        "class Node:\n",
        "   def __init__(self, data):\n",
        "     self.data = data \n",
        "     self.next = None \n",
        "\n",
        "class LinkedList:\n",
        "\n",
        "    def __init__(self):\n",
        "      self.head = None\n",
        "    def printList(self):\n",
        "      temp = self.head\n",
        "      while(temp):\n",
        "        print(temp.data)\n",
        "        temp = temp.next\n",
        "\n",
        "llist = LinkedList()\n",
        "llist.head = Node(\"D\")\n",
        "second = Node(\"y\")\n",
        "third = Node(\"m\")\n",
        "fourth = Node(\"p\")\n",
        "fifth = Node(\"h\")\n",
        "sixth = Node(\"n\")\n",
        "seventh = Node(\"a\")\n",
        "\n",
        "print(seventh.data)\n",
        "print(sixth.data)\n",
        "print(fifth.data)\n",
        "print(fourth.data)\n",
        "print(third.data)\n",
        "print(second.data)\n",
        "print(llist.head.data)\n"
      ],
      "metadata": {
        "colab": {
          "base_uri": "https://localhost:8080/"
        },
        "id": "mWRH4GGBY0Og",
        "outputId": "3d1a703f-e2be-49bb-cf87-d2f9fe62092a"
      },
      "execution_count": 21,
      "outputs": [
        {
          "output_type": "stream",
          "name": "stdout",
          "text": [
            "a\n",
            "n\n",
            "h\n",
            "p\n",
            "m\n",
            "y\n",
            "D\n"
          ]
        }
      ]
    },
    {
      "cell_type": "code",
      "source": [],
      "metadata": {
        "id": "FxrJPNafdltH"
      },
      "execution_count": null,
      "outputs": []
    }
  ]
}