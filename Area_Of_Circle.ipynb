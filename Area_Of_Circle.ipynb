{
  "nbformat": 4,
  "nbformat_minor": 0,
  "metadata": {
    "colab": {
      "name": "Area_Of_Circle.ipynb",
      "provenance": [],
      "authorship_tag": "ABX9TyPmaJwTsUnDCvmkiz04+2WR",
      "include_colab_link": true
    },
    "kernelspec": {
      "name": "python3",
      "display_name": "Python 3"
    },
    "language_info": {
      "name": "python"
    }
  },
  "cells": [
    {
      "cell_type": "markdown",
      "metadata": {
        "id": "view-in-github",
        "colab_type": "text"
      },
      "source": [
        "<a href=\"https://colab.research.google.com/github/DymphnaDavid/DSA-58011/blob/main/Area_Of_Circle.ipynb\" target=\"_parent\"><img src=\"https://colab.research.google.com/assets/colab-badge.svg\" alt=\"Open In Colab\"/></a>"
      ]
    },
    {
      "cell_type": "code",
      "execution_count": 2,
      "metadata": {
        "colab": {
          "base_uri": "https://localhost:8080/"
        },
        "id": "QtAgbg3lD-jt",
        "outputId": "e351fec0-78ef-465e-80d6-707a317bcedf"
      },
      "outputs": [
        {
          "output_type": "stream",
          "name": "stdout",
          "text": [
            "153.93791\n"
          ]
        }
      ],
      "source": [
        "class Circle:\n",
        "  def __init__ (self, radius):\n",
        "    self.radius = radius\n",
        "\n",
        "  def Area(self):\n",
        "    print( 3.14159 * (self.radius * self.radius))\n",
        "\n",
        "circle = Circle(7)\n",
        "circle.Area()"
      ]
    }
  ]
}