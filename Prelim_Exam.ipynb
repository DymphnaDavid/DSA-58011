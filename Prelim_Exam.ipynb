{
  "nbformat": 4,
  "nbformat_minor": 0,
  "metadata": {
    "colab": {
      "provenance": [],
      "authorship_tag": "ABX9TyMrWumS7ctPN+KHuQ20XyZY",
      "include_colab_link": true
    },
    "kernelspec": {
      "name": "python3",
      "display_name": "Python 3"
    },
    "language_info": {
      "name": "python"
    }
  },
  "cells": [
    {
      "cell_type": "markdown",
      "metadata": {
        "id": "view-in-github",
        "colab_type": "text"
      },
      "source": [
        "<a href=\"https://colab.research.google.com/github/DymphnaDavid/DSA-58011/blob/main/Prelim_Exam.ipynb\" target=\"_parent\"><img src=\"https://colab.research.google.com/assets/colab-badge.svg\" alt=\"Open In Colab\"/></a>"
      ]
    },
    {
      "cell_type": "markdown",
      "source": [
        "Program that appends all composite integers less than 10 but greater than 1 and counts the number of composite\n"
      ],
      "metadata": {
        "id": "-EXGovn5XkXP"
      }
    },
    {
      "cell_type": "code",
      "execution_count": 10,
      "metadata": {
        "colab": {
          "base_uri": "https://localhost:8080/"
        },
        "id": "H6jh9x44XhGn",
        "outputId": "7175972a-7259-4d64-a9c6-3191cb34f115"
      },
      "outputs": [
        {
          "output_type": "stream",
          "name": "stdout",
          "text": [
            "10\n"
          ]
        }
      ],
      "source": [
        "numbers = [ 10, 1 ]\n",
        "\n",
        "numbers.append(9)\n",
        "numbers.append(8)\n",
        "numbers.append(7)\n",
        "numbers.append(6)\n",
        "numbers.append(5)\n",
        "numbers.append(4)\n",
        "numbers.append(3)\n",
        "numbers.append(2)\n",
        "\n",
        "size = len(numbers)\n",
        "print(size)"
      ]
    }
  ]
}